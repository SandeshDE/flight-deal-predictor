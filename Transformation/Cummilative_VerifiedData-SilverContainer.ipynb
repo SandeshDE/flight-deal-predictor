{
 "cells": [
  {
   "cell_type": "code",
   "execution_count": 0,
   "metadata": {
    "application/vnd.databricks.v1+cell": {
     "cellMetadata": {
      "byteLimit": 2048000,
      "rowLimit": 10000
     },
     "collapsed": true,
     "inputWidgets": {},
     "nuid": "a2878fc8-3057-4c8b-872b-24d072f01599",
     "showTitle": false,
     "tableResultSettingsMap": {},
     "title": ""
    }
   },
   "outputs": [
    {
     "output_type": "display_data",
     "data": {
      "text/html": [
       "<style scoped>\n",
       "  .table-result-container {\n",
       "    max-height: 300px;\n",
       "    overflow: auto;\n",
       "  }\n",
       "  table, th, td {\n",
       "    border: 1px solid black;\n",
       "    border-collapse: collapse;\n",
       "  }\n",
       "  th, td {\n",
       "    padding: 5px;\n",
       "  }\n",
       "  th {\n",
       "    text-align: left;\n",
       "  }\n",
       "</style><div class='table-result-container'><table class='table-result'><thead style='background-color: white'><tr><th>name</th></tr></thead><tbody><tr><td>keyvaultScope</td></tr></tbody></table></div>"
      ]
     },
     "metadata": {
      "application/vnd.databricks.v1+output": {
       "addedWidgets": {},
       "aggData": [],
       "aggError": "",
       "aggOverflow": false,
       "aggSchema": [],
       "aggSeriesLimitReached": false,
       "aggType": "",
       "arguments": {},
       "columnCustomDisplayInfos": {},
       "data": [
        [
         "keyvaultScope"
        ]
       ],
       "datasetInfos": [],
       "dbfsResultPath": null,
       "isJsonSchema": true,
       "metadata": {},
       "overflow": false,
       "plotOptions": {
        "customPlotOptions": {},
        "displayType": "table",
        "pivotAggregation": null,
        "pivotColumns": null,
        "xColumns": null,
        "yColumns": null
       },
       "removedWidgets": [],
       "schema": [
        {
         "metadata": "{}",
         "name": "name",
         "type": "\"string\""
        }
       ],
       "type": "table"
      }
     },
     "output_type": "display_data"
    },
    {
     "output_type": "execute_result",
     "data": {
      "text/plain": [
       "[SecretMetadata(key='ClientId'),\n",
       " SecretMetadata(key='ClientSecret'),\n",
       " SecretMetadata(key='databricksSecret'),\n",
       " SecretMetadata(key='StorageKey')]"
      ]
     },
     "execution_count": 24,
     "metadata": {},
     "output_type": "execute_result"
    }
   ],
   "source": [
    "display(dbutils.secrets.listScopes())\n",
    "dbutils.secrets.list(\"keyvaultScope\")"
   ]
  },
  {
   "cell_type": "code",
   "execution_count": 0,
   "metadata": {
    "application/vnd.databricks.v1+cell": {
     "cellMetadata": {
      "byteLimit": 2048000,
      "rowLimit": 10000
     },
     "inputWidgets": {},
     "nuid": "689ad158-9965-447e-94dd-d25b3fb92753",
     "showTitle": false,
     "tableResultSettingsMap": {},
     "title": ""
    }
   },
   "outputs": [],
   "source": [
    "service_credential = dbutils.secrets.get(scope=\"keyvaultScope\",key=\"databricksSecret\")\n",
    "\n",
    "spark.conf.set(\"fs.azure.account.auth.type.fligjhtsg.dfs.core.windows.net\", \"OAuth\")\n",
    "spark.conf.set(\"fs.azure.account.oauth.provider.type.fligjhtsg.dfs.core.windows.net\", \"org.apache.hadoop.fs.azurebfs.oauth2.ClientCredsTokenProvider\")\n",
    "spark.conf.set(\"fs.azure.account.oauth2.client.id.fligjhtsg.dfs.core.windows.net\", \"f54bbf39-2dea-4397-89ad-6b31730973ce\")\n",
    "spark.conf.set(\"fs.azure.account.oauth2.client.secret.fligjhtsg.dfs.core.windows.net\", service_credential)\n",
    "spark.conf.set(\"fs.azure.account.oauth2.client.endpoint.fligjhtsg.dfs.core.windows.net\", \"https://login.microsoftonline.com/28ddd632-976b-4439-9198-12d3d583b2a5/oauth2/token\")"
   ]
  },
  {
   "cell_type": "code",
   "execution_count": 0,
   "metadata": {
    "application/vnd.databricks.v1+cell": {
     "cellMetadata": {
      "byteLimit": 2048000,
      "rowLimit": 10000
     },
     "inputWidgets": {},
     "nuid": "b255405e-adc6-48d9-9b2f-310034adc8e4",
     "showTitle": false,
     "tableResultSettingsMap": {},
     "title": ""
    }
   },
   "outputs": [
    {
     "output_type": "execute_result",
     "data": {
      "text/plain": [
       "[FileInfo(path='abfss://bronze@fligjhtsg.dfs.core.windows.net/raw/', name='raw/', size=0, modificationTime=1743652587000)]"
      ]
     },
     "execution_count": 39,
     "metadata": {},
     "output_type": "execute_result"
    }
   ],
   "source": [
    "dbutils.fs.ls(\"abfss://bronze@fligjhtsg.dfs.core.windows.net/\")"
   ]
  },
  {
   "cell_type": "code",
   "execution_count": 0,
   "metadata": {
    "application/vnd.databricks.v1+cell": {
     "cellMetadata": {
      "byteLimit": 2048000,
      "rowLimit": 10000
     },
     "collapsed": true,
     "inputWidgets": {},
     "nuid": "dc5be851-6dd8-4481-a277-62bd063c256e",
     "showTitle": false,
     "tableResultSettingsMap": {},
     "title": ""
    }
   },
   "outputs": [
    {
     "output_type": "stream",
     "name": "stdout",
     "output_type": "stream",
     "text": [
      "Year:[2019, 2022, 2023, 2024]\nabfss://bronze@fligjhtsg.dfs.core.windows.net/raw/Amadeous-2019/route:LHR-CDG/Month=01/\nabfss://bronze@fligjhtsg.dfs.core.windows.net/raw/Amadeous-2019/route:LHR-CDG/Month=02/\nabfss://bronze@fligjhtsg.dfs.core.windows.net/raw/Amadeous-2019/route:LHR-CDG/Month=03/\nabfss://bronze@fligjhtsg.dfs.core.windows.net/raw/Amadeous-2019/route:LHR-CDG/Month=04/\nabfss://bronze@fligjhtsg.dfs.core.windows.net/raw/Amadeous-2019/route:LHR-CDG/Month=05/\nabfss://bronze@fligjhtsg.dfs.core.windows.net/raw/Amadeous-2019/route:LHR-CDG/Month=06/\nabfss://bronze@fligjhtsg.dfs.core.windows.net/raw/Amadeous-2019/route:LHR-CDG/Month=07/\nabfss://bronze@fligjhtsg.dfs.core.windows.net/raw/Amadeous-2019/route:LHR-CDG/Month=08/\nabfss://bronze@fligjhtsg.dfs.core.windows.net/raw/Amadeous-2019/route:LHR-CDG/Month=09/\nabfss://bronze@fligjhtsg.dfs.core.windows.net/raw/Amadeous-2019/route:LHR-CDG/Month=10/\nabfss://bronze@fligjhtsg.dfs.core.windows.net/raw/Amadeous-2019/route:LHR-CDG/Month=11/\nabfss://bronze@fligjhtsg.dfs.core.windows.net/raw/Amadeous-2019/route:LHR-CDG/Month=12/\nYear:[2019, 2022, 2023, 2024]\nabfss://bronze@fligjhtsg.dfs.core.windows.net/raw/Amadeous-2022/route:LHR-CDG/Month=01/\nabfss://bronze@fligjhtsg.dfs.core.windows.net/raw/Amadeous-2022/route:LHR-CDG/Month=02/\nabfss://bronze@fligjhtsg.dfs.core.windows.net/raw/Amadeous-2022/route:LHR-CDG/Month=03/\nabfss://bronze@fligjhtsg.dfs.core.windows.net/raw/Amadeous-2022/route:LHR-CDG/Month=04/\nabfss://bronze@fligjhtsg.dfs.core.windows.net/raw/Amadeous-2022/route:LHR-CDG/Month=05/\nabfss://bronze@fligjhtsg.dfs.core.windows.net/raw/Amadeous-2022/route:LHR-CDG/Month=06/\nabfss://bronze@fligjhtsg.dfs.core.windows.net/raw/Amadeous-2022/route:LHR-CDG/Month=07/\nabfss://bronze@fligjhtsg.dfs.core.windows.net/raw/Amadeous-2022/route:LHR-CDG/Month=08/\nabfss://bronze@fligjhtsg.dfs.core.windows.net/raw/Amadeous-2022/route:LHR-CDG/Month=09/\nabfss://bronze@fligjhtsg.dfs.core.windows.net/raw/Amadeous-2022/route:LHR-CDG/Month=10/\nabfss://bronze@fligjhtsg.dfs.core.windows.net/raw/Amadeous-2022/route:LHR-CDG/Month=11/\nabfss://bronze@fligjhtsg.dfs.core.windows.net/raw/Amadeous-2022/route:LHR-CDG/Month=12/\nYear:[2019, 2022, 2023, 2024]\nabfss://bronze@fligjhtsg.dfs.core.windows.net/raw/Amadeous-2023/route:LHR-CDG/Month=01/\nabfss://bronze@fligjhtsg.dfs.core.windows.net/raw/Amadeous-2023/route:LHR-CDG/Month=02/\nabfss://bronze@fligjhtsg.dfs.core.windows.net/raw/Amadeous-2023/route:LHR-CDG/Month=03/\nabfss://bronze@fligjhtsg.dfs.core.windows.net/raw/Amadeous-2023/route:LHR-CDG/Month=04/\nabfss://bronze@fligjhtsg.dfs.core.windows.net/raw/Amadeous-2023/route:LHR-CDG/Month=05/\nabfss://bronze@fligjhtsg.dfs.core.windows.net/raw/Amadeous-2023/route:LHR-CDG/Month=06/\nabfss://bronze@fligjhtsg.dfs.core.windows.net/raw/Amadeous-2023/route:LHR-CDG/Month=07/\nabfss://bronze@fligjhtsg.dfs.core.windows.net/raw/Amadeous-2023/route:LHR-CDG/Month=08/\nabfss://bronze@fligjhtsg.dfs.core.windows.net/raw/Amadeous-2023/route:LHR-CDG/Month=09/\nabfss://bronze@fligjhtsg.dfs.core.windows.net/raw/Amadeous-2023/route:LHR-CDG/Month=10/\nabfss://bronze@fligjhtsg.dfs.core.windows.net/raw/Amadeous-2023/route:LHR-CDG/Month=11/\nabfss://bronze@fligjhtsg.dfs.core.windows.net/raw/Amadeous-2023/route:LHR-CDG/Month=12/\nYear:[2019, 2022, 2023, 2024]\nabfss://bronze@fligjhtsg.dfs.core.windows.net/raw/Amadeous-2024/route:LHR-CDG/Month=01/\nabfss://bronze@fligjhtsg.dfs.core.windows.net/raw/Amadeous-2024/route:LHR-CDG/Month=02/\nabfss://bronze@fligjhtsg.dfs.core.windows.net/raw/Amadeous-2024/route:LHR-CDG/Month=03/\nabfss://bronze@fligjhtsg.dfs.core.windows.net/raw/Amadeous-2024/route:LHR-CDG/Month=04/\nabfss://bronze@fligjhtsg.dfs.core.windows.net/raw/Amadeous-2024/route:LHR-CDG/Month=05/\nabfss://bronze@fligjhtsg.dfs.core.windows.net/raw/Amadeous-2024/route:LHR-CDG/Month=06/\nabfss://bronze@fligjhtsg.dfs.core.windows.net/raw/Amadeous-2024/route:LHR-CDG/Month=07/\nabfss://bronze@fligjhtsg.dfs.core.windows.net/raw/Amadeous-2024/route:LHR-CDG/Month=08/\nabfss://bronze@fligjhtsg.dfs.core.windows.net/raw/Amadeous-2024/route:LHR-CDG/Month=09/\nabfss://bronze@fligjhtsg.dfs.core.windows.net/raw/Amadeous-2024/route:LHR-CDG/Month=10/\nabfss://bronze@fligjhtsg.dfs.core.windows.net/raw/Amadeous-2024/route:LHR-CDG/Month=11/\nabfss://bronze@fligjhtsg.dfs.core.windows.net/raw/Amadeous-2024/route:LHR-CDG/Month=12/\n"
     ]
    },
    {
     "output_type": "execute_result",
     "data": {
      "text/plain": [
       "1461"
      ]
     },
     "execution_count": 40,
     "metadata": {},
     "output_type": "execute_result"
    }
   ],
   "source": [
    "origin=dbutils.widgets.get(\"origin\")\n",
    "destination=dbutils.widgets.get(\"destination\")\n",
    "year=[2019,2022,2023,2024]\n",
    "route=f'{origin}-{destination}'\n",
    "dataframes=[]\n",
    "for i in year:\n",
    "    print(f'Year:{year}')\n",
    "\n",
    "   \n",
    "    source=f'Amadeous-{i}'\n",
    "    x=12\n",
    "    for j in range(1,x+1):\n",
    "        #zfill(2):it pads the numericalstring with 0,to make it 2 digits\n",
    "        j=str(j).zfill(2)\n",
    "        file_path=f\"abfss://bronze@fligjhtsg.dfs.core.windows.net/raw/{source}/route:{route}/Month={j}/\"\n",
    "        print(file_path)\n",
    "        try :\n",
    "            df=spark.read.format(\"json\").option('header','true').load(file_path)\n",
    "            dataframes.append(df)\n",
    "        except Exception as e:\n",
    "            print(e)\n",
    "if dataframes:\n",
    "    df_final=dataframes[0]\n",
    "    for df in dataframes[1:]:\n",
    "        df_final=df_final.union(df)\n",
    "df_final.count()\n",
    "\n",
    "\n",
    "        \n",
    "        \n",
    "\n",
    "\n",
    "\n"
   ]
  },
  {
   "cell_type": "code",
   "execution_count": 0,
   "metadata": {
    "application/vnd.databricks.v1+cell": {
     "cellMetadata": {
      "byteLimit": 2048000,
      "rowLimit": 10000
     },
     "collapsed": true,
     "inputWidgets": {},
     "nuid": "ffb430ba-1696-4b72-9c55-ee2999f9b129",
     "showTitle": false,
     "tableResultSettingsMap": {},
     "title": ""
    }
   },
   "outputs": [
    {
     "output_type": "stream",
     "name": "stdout",
     "output_type": "stream",
     "text": [
      "root\n |-- data: array (nullable = true)\n |    |-- element: struct (containsNull = true)\n |    |    |-- currencyCode: string (nullable = true)\n |    |    |-- departureDate: string (nullable = true)\n |    |    |-- destination: struct (nullable = true)\n |    |    |    |-- iataCode: string (nullable = true)\n |    |    |-- oneWay: boolean (nullable = true)\n |    |    |-- origin: struct (nullable = true)\n |    |    |    |-- iataCode: string (nullable = true)\n |    |    |-- priceMetrics: array (nullable = true)\n |    |    |    |-- element: struct (containsNull = true)\n |    |    |    |    |-- amount: string (nullable = true)\n |    |    |    |    |-- quartileRanking: string (nullable = true)\n |    |    |-- transportType: string (nullable = true)\n |    |    |-- type: string (nullable = true)\n |-- meta: struct (nullable = true)\n |    |-- count: long (nullable = true)\n |    |-- links: struct (nullable = true)\n |    |    |-- self: string (nullable = true)\n |-- warnings: array (nullable = true)\n |    |-- element: string (containsNull = true)\n\n"
     ]
    }
   ],
   "source": [
    "df_final.printSchema()"
   ]
  },
  {
   "cell_type": "markdown",
   "metadata": {
    "application/vnd.databricks.v1+cell": {
     "cellMetadata": {},
     "inputWidgets": {},
     "nuid": "6af15f8e-22da-4b9c-8504-492154f5d2fd",
     "showTitle": false,
     "tableResultSettingsMap": {},
     "title": ""
    }
   },
   "source": [
    "Storing the Cummilative Data into the silver container as a cummilativedata/route:This contains the data range(2019-2024,exc:2020,2021)"
   ]
  },
  {
   "cell_type": "code",
   "execution_count": 0,
   "metadata": {
    "application/vnd.databricks.v1+cell": {
     "cellMetadata": {
      "byteLimit": 2048000,
      "rowLimit": 10000
     },
     "inputWidgets": {},
     "nuid": "fac876e8-3d33-4666-8b01-61f928cd2cc8",
     "showTitle": false,
     "tableResultSettingsMap": {},
     "title": ""
    }
   },
   "outputs": [],
   "source": [
    "origin=dbutils.widgets.get('origin')\n",
    "destination=dbutils.widgets.get('destination')\n",
    "\n",
    "savepath=f'abfss://silver@fligjhtsg.dfs.core.windows.net/Cummilative_routes:/{origin}-{destination}/'\n",
    "df_final.write.format('delta').mode('overwrite').save(savepath)"
   ]
  },
  {
   "cell_type": "code",
   "execution_count": 0,
   "metadata": {
    "application/vnd.databricks.v1+cell": {
     "cellMetadata": {
      "byteLimit": 2048000,
      "rowLimit": 10000
     },
     "inputWidgets": {},
     "nuid": "c6b30b66-69cb-4c8b-bb10-ab4b373949a7",
     "showTitle": false,
     "tableResultSettingsMap": {},
     "title": ""
    }
   },
   "outputs": [
    {
     "output_type": "stream",
     "name": "stdout",
     "output_type": "stream",
     "text": [
      "root\n |-- CurrencyCode: string (nullable = true)\n |-- Departure_Date: string (nullable = true)\n |-- Destination: string (nullable = true)\n |-- OneWay: boolean (nullable = true)\n |-- Origin: string (nullable = true)\n |-- Economy: string (nullable = true)\n |-- PremiumEconomy: string (nullable = true)\n |-- Business: string (nullable = true)\n |-- First: string (nullable = true)\n\n"
     ]
    }
   ],
   "source": [
    "paths=f'abfss://silver@fligjhtsg.dfs.core.windows.net/Cummilative_routes:/{origin}-{destination}/'\n",
    "df_final=spark.read.format('delta').load(paths)\n",
    "from pyspark.sql.functions import col, lit, explode,expr\n",
    "#flattening the data column : to distribute the prices across the columns\n",
    "df_exploded = df_final.select(explode(col('data')).alias('data'))\n",
    "#flattening the json(array) into a structured dataframe\n",
    "df_flattened = df_exploded.select(\n",
    "    col('data.currencyCode').alias('CurrencyCode'),\n",
    "    col('data.departureDate').alias('Departure_Date'),\n",
    "    col('data.destination.iataCode').alias('Destination'),\n",
    "    col('data.oneWay').alias('OneWay'),\n",
    "    col('data.origin.iataCode').alias('Origin'),\n",
    "    expr('data.priceMetrics.amount[0]').alias('Economy'),\n",
    "    expr('data.priceMetrics.amount[1]').alias('PremiumEconomy'),\n",
    "    expr('data.priceMetrics.amount[2]').alias('Business'),\n",
    "    expr('data.priceMetrics.amount[3]').alias('First')\n",
    ")\n",
    "df_flattened.printSchema()\n"
   ]
  },
  {
   "cell_type": "code",
   "execution_count": 0,
   "metadata": {
    "application/vnd.databricks.v1+cell": {
     "cellMetadata": {
      "byteLimit": 2048000,
      "rowLimit": 10000
     },
     "inputWidgets": {},
     "nuid": "a091ede7-a5d7-4b0b-8bf9-f157f0245e1e",
     "showTitle": false,
     "tableResultSettingsMap": {},
     "title": ""
    }
   },
   "outputs": [
    {
     "output_type": "stream",
     "name": "stdout",
     "output_type": "stream",
     "text": [
      "+------------+--------------+-----------+------+------+-------+--------------+--------+------+\n|CurrencyCode|Departure_Date|Destination|OneWay|Origin|Economy|PremiumEconomy|Business| First|\n+------------+--------------+-----------+------+------+-------+--------------+--------+------+\n|         EUR|    2019-02-08|        CDG| false|   LHR|  46.04|        160.54|  249.81|402.09|\n|         EUR|    2019-02-09|        CDG| false|   LHR|  78.82|        150.83|  259.46|442.49|\n|         EUR|    2019-02-10|        CDG| false|   LHR|  86.95|        172.57|   225.5|484.29|\n|         EUR|    2019-02-11|        CDG| false|   LHR|  55.34|        167.06|   285.7|473.44|\n|         EUR|    2019-02-12|        CDG| false|   LHR|  63.55|        156.04|  243.52|395.89|\n|         EUR|    2019-02-13|        CDG| false|   LHR|  46.16|        178.61|  274.86|482.89|\n|         EUR|    2019-02-14|        CDG| false|   LHR|  79.26|        172.33|  237.17|386.39|\n|         EUR|    2019-02-15|        CDG| false|   LHR|  94.72|        151.22|   245.3|417.27|\n|         EUR|    2019-02-16|        CDG| false|   LHR|  89.12|        158.73|  284.51|387.52|\n|         EUR|    2019-02-17|        CDG| false|   LHR|  41.12|        172.32|   273.1| 401.2|\n|         EUR|    2019-02-18|        CDG| false|   LHR|  40.19|        157.51|  270.67| 447.1|\n|         EUR|    2019-02-19|        CDG| false|   LHR|  93.96|        165.06|  346.06|458.95|\n|         EUR|    2019-02-20|        CDG| false|   LHR|  54.65|        159.73|  313.61|448.28|\n|         EUR|    2019-02-21|        CDG| false|   LHR|  68.92|        160.01|  302.42|439.21|\n|         EUR|    2022-02-08|        CDG| false|   LHR|  45.89|        171.09|  284.17|497.56|\n|         EUR|    2022-02-09|        CDG| false|   LHR|  80.37|        153.39|  258.58|422.62|\n|         EUR|    2022-02-10|        CDG| false|   LHR|  50.77|        157.26|  224.66|479.91|\n|         EUR|    2022-02-11|        CDG| false|   LHR|  77.45|        172.05|  213.99|429.22|\n|         EUR|    2022-02-12|        CDG| false|   LHR|  52.97|        173.97|  342.43|472.77|\n|         EUR|    2022-02-13|        CDG| false|   LHR|  41.51|        173.68|  280.12|403.27|\n+------------+--------------+-----------+------+------+-------+--------------+--------+------+\nonly showing top 20 rows\n"
     ]
    }
   ],
   "source": [
    "from pyspark.sql.functions import expr\n",
    "\n",
    "df_modified = df_flattened.withColumn(\"Economy\", expr(\"ROUND(rand() * (100 - 40) + 40, 2)\")) \\\n",
    "    .withColumn(\"PremiumEconomy\", expr(\"ROUND(rand() * (180 - 150) + 150, 2)\")) \\\n",
    "    .withColumn(\"Business\", expr(\"ROUND(rand() * (350 - 200) + 200, 2)\")) \\\n",
    "    .withColumn(\"First\", expr(\"ROUND(rand() * (500 - 380) + 380, 2)\"))\n",
    "df_modified.show()"
   ]
  },
  {
   "cell_type": "markdown",
   "metadata": {
    "application/vnd.databricks.v1+cell": {
     "cellMetadata": {},
     "inputWidgets": {},
     "nuid": "5b5e5cbc-94e4-440a-a634-866fd12c7f82",
     "showTitle": false,
     "tableResultSettingsMap": {},
     "title": ""
    }
   },
   "source": [
    "Check for the Data Redundancy and stores the VerifiedData in SIlver container"
   ]
  },
  {
   "cell_type": "code",
   "execution_count": 0,
   "metadata": {
    "application/vnd.databricks.v1+cell": {
     "cellMetadata": {
      "byteLimit": 2048000,
      "rowLimit": 10000
     },
     "inputWidgets": {},
     "nuid": "f2bec53a-ee74-4c04-b6f5-48e2ab3d3026",
     "showTitle": false,
     "tableResultSettingsMap": {},
     "title": ""
    }
   },
   "outputs": [
    {
     "output_type": "execute_result",
     "data": {
      "text/plain": [
       "1461"
      ]
     },
     "execution_count": 49,
     "metadata": {},
     "output_type": "execute_result"
    }
   ],
   "source": [
    "\n",
    "savepath=f'abfss://silver@fligjhtsg.dfs.core.windows.net/VerifiedData/route:{origin}-{destination}'\n",
    "\n",
    "def chkRedundancy(df_modified,savepath,check_columns=None,critical_columns=None):\n",
    "    total_rows=df_modified.count()\n",
    "    distinct_rows=df_modified.distinct().count()\n",
    "    #check for duplicates\n",
    "    if total_rows>distinct_rows:\n",
    "        print(f'{total_rows}-{distinct_rows} are duplicate records')\n",
    "        return \n",
    "    \n",
    "    #check in specified columns\n",
    "\n",
    "    if check_columns:\n",
    "        \n",
    "        dup_check=df_modified.groupBy(check_columns).count().filter(\"count>1\")\n",
    "        dup_count=dup_check.count()\n",
    "        if dup_count>0:\n",
    "            dup_check.show(truncate=False)\n",
    "            return\n",
    "    if critical_columns:\n",
    "        for columns in critical_columns:\n",
    "            chk=df_modified.filter(col(columns).isNull()).count()\n",
    "            if chk>0:\n",
    "                print(f'critical column {columns} has {chk} null values')\n",
    "                return\n",
    "    \n",
    "    df_modified.write.format('delta').mode('append').save(savepath)\n",
    "\n",
    "\n",
    "chkRedundancy(df_modified,savepath,check_columns=['Departure_Date'],critical_columns=['Economy','PremiumEconomy','Business','First'])\n",
    "\n",
    "df1=spark.read.format('delta').load(savepath)\n",
    "df1.count()\n",
    "\n",
    "\n",
    "\n",
    "\n"
   ]
  }
 ],
 "metadata": {
  "application/vnd.databricks.v1+notebook": {
   "computePreferences": null,
   "dashboards": [],
   "environmentMetadata": {
    "base_environment": "",
    "environment_version": "2"
   },
   "inputWidgetPreferences": null,
   "language": "python",
   "notebookMetadata": {
    "pythonIndentUnit": 4
   },
   "notebookName": "Cummilative_VerifiedData-SilverContainer",
   "widgets": {
    "destination": {
     "currentValue": "CDG",
     "nuid": "71ee7e50-f14b-4973-b05e-c01850c3f76b",
     "typedWidgetInfo": {
      "autoCreated": false,
      "defaultValue": "",
      "label": "",
      "name": "destination",
      "options": {
       "widgetDisplayType": "Text",
       "validationRegex": null
      },
      "parameterDataType": "String"
     },
     "widgetInfo": {
      "widgetType": "text",
      "defaultValue": "",
      "label": "",
      "name": "destination",
      "options": {
       "widgetType": "text",
       "autoCreated": false,
       "validationRegex": null
      }
     }
    },
    "origin": {
     "currentValue": "LHR",
     "nuid": "9c6bb7e1-98d9-4a39-839b-a30a1d3d5221",
     "typedWidgetInfo": {
      "autoCreated": false,
      "defaultValue": "",
      "label": "",
      "name": "origin",
      "options": {
       "widgetDisplayType": "Text",
       "validationRegex": null
      },
      "parameterDataType": "String"
     },
     "widgetInfo": {
      "widgetType": "text",
      "defaultValue": "",
      "label": "",
      "name": "origin",
      "options": {
       "widgetType": "text",
       "autoCreated": false,
       "validationRegex": null
      }
     }
    }
   }
  },
  "language_info": {
   "name": "python"
  }
 },
 "nbformat": 4,
 "nbformat_minor": 0
}